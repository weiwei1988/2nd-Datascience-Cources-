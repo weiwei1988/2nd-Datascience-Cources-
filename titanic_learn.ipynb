{
 "cells": [
  {
   "cell_type": "code",
   "execution_count": 1,
   "metadata": {},
   "outputs": [],
   "source": [
    "import numpy as np\n",
    "import pandas as pd\n",
    "import os\n",
    "from Resampled_learn import Resampled_Cross_Validate, Resampled_RFECV, BalancedBagging_Valudation\n",
    "from sklearn import linear_model, svm, tree, neighbors, neural_network, ensemble\n",
    "from sklearn.model_selection import train_test_split, cross_val_score, learning_curve, KFold, cross_val_predict\n",
    "from sklearn.grid_search import GridSearchCV\n",
    "from sklearn.preprocessing import MinMaxScaler\n",
    "from tensorflow.contrib import learn\n",
    "import xgboost as xgb\n",
    "import seaborn as sns\n",
    "from matplotlib import pyplot as plt\n",
    "from sklearn.feature_selection import RFECV"
   ]
  },
  {
   "cell_type": "code",
   "execution_count": 2,
   "metadata": {},
   "outputs": [],
   "source": [
    "os.chdir(\"C:/Users/zhaow/Dropbox/Datascience/titanic\")"
   ]
  },
  {
   "cell_type": "code",
   "execution_count": 3,
   "metadata": {},
   "outputs": [],
   "source": [
    "df_train = pd.read_csv('titanic_train.csv')\n",
    "df_test = pd.read_csv('titanic_test.csv')"
   ]
  },
  {
   "cell_type": "code",
   "execution_count": 4,
   "metadata": {},
   "outputs": [],
   "source": [
    "df_train = df_train.drop('Mr.', axis = 1).drop('Embarked_S', axis = 1)\n",
    "df_test = df_test.drop('Mr.', axis = 1).drop('Embarked_S', axis = 1)"
   ]
  },
  {
   "cell_type": "code",
   "execution_count": 5,
   "metadata": {},
   "outputs": [],
   "source": [
    "def Pclass_dummy(data):\n",
    "    dummies = pd.get_dummies(data['Pclass'])\n",
    "    dummies.columns = ['C1', 'C2', 'C3']\n",
    "    dummies = dummies.drop('C3', axis =1)\n",
    "    data_out = pd.concat([data, dummies], axis = 1)\n",
    "    data_out = data_out.drop('Pclass', axis=1)\n",
    "    return data_out\n",
    "\n",
    "df_train = Pclass_dummy(df_train)\n",
    "df_test = Pclass_dummy(df_test)"
   ]
  },
  {
   "cell_type": "code",
   "execution_count": 7,
   "metadata": {},
   "outputs": [
    {
     "data": {
      "text/plain": [
       "(893, 15)"
      ]
     },
     "execution_count": 7,
     "metadata": {},
     "output_type": "execute_result"
    }
   ],
   "source": [
    "df_train.shape"
   ]
  },
  {
   "cell_type": "code",
   "execution_count": 8,
   "metadata": {},
   "outputs": [],
   "source": [
    "df_train = df_train.drop_duplicates()\n",
    "df_test = df_test.drop_duplicates()"
   ]
  },
  {
   "cell_type": "code",
   "execution_count": 9,
   "metadata": {},
   "outputs": [],
   "source": [
    "def func(x):\n",
    "    if x > 0:\n",
    "        return 1\n",
    "    else:\n",
    "        return 0"
   ]
  },
  {
   "cell_type": "code",
   "execution_count": 10,
   "metadata": {},
   "outputs": [],
   "source": [
    "df_train['Is Family Survive'] = df_train['Family survive rate'].apply(func)\n",
    "df_test['Is Family Survive'] = df_test['Family survive rate'].apply(func)"
   ]
  },
  {
   "cell_type": "code",
   "execution_count": 11,
   "metadata": {},
   "outputs": [
    {
     "data": {
      "text/html": [
       "<div>\n",
       "<style scoped>\n",
       "    .dataframe tbody tr th:only-of-type {\n",
       "        vertical-align: middle;\n",
       "    }\n",
       "\n",
       "    .dataframe tbody tr th {\n",
       "        vertical-align: top;\n",
       "    }\n",
       "\n",
       "    .dataframe thead th {\n",
       "        text-align: right;\n",
       "    }\n",
       "</style>\n",
       "<table border=\"1\" class=\"dataframe\">\n",
       "  <thead>\n",
       "    <tr style=\"text-align: right;\">\n",
       "      <th>Survived</th>\n",
       "      <th>0</th>\n",
       "      <th>1</th>\n",
       "    </tr>\n",
       "    <tr>\n",
       "      <th>Is Family Survive</th>\n",
       "      <th></th>\n",
       "      <th></th>\n",
       "    </tr>\n",
       "  </thead>\n",
       "  <tbody>\n",
       "    <tr>\n",
       "      <th>0</th>\n",
       "      <td>470</td>\n",
       "      <td>228</td>\n",
       "    </tr>\n",
       "    <tr>\n",
       "      <th>1</th>\n",
       "      <td>79</td>\n",
       "      <td>114</td>\n",
       "    </tr>\n",
       "  </tbody>\n",
       "</table>\n",
       "</div>"
      ],
      "text/plain": [
       "Survived             0    1\n",
       "Is Family Survive          \n",
       "0                  470  228\n",
       "1                   79  114"
      ]
     },
     "execution_count": 11,
     "metadata": {},
     "output_type": "execute_result"
    }
   ],
   "source": [
    "pd.pivot_table(df_train, index='Is Family Survive', columns='Survived', values='PassengerId', aggfunc='count')"
   ]
  },
  {
   "cell_type": "code",
   "execution_count": 12,
   "metadata": {},
   "outputs": [],
   "source": [
    "df_train = df_train.drop('Family survive rate', axis=1)\n",
    "df_test = df_test.drop('Family survive rate', axis=1)"
   ]
  },
  {
   "cell_type": "code",
   "execution_count": 13,
   "metadata": {},
   "outputs": [],
   "source": [
    "\"\"\"訓練用、テスト用データの生成\"\"\"\n",
    "X_train = df_train.drop('PassengerId', axis = 1)\n",
    "X_train = X_train.drop('Survived', axis = 1)\n",
    "Y_train = df_train['Survived']\n",
    "X_test = df_test.drop('PassengerId', axis = 1)\n",
    "PassangerId = df_test['PassengerId']"
   ]
  },
  {
   "cell_type": "code",
   "execution_count": 14,
   "metadata": {},
   "outputs": [
    {
     "name": "stdout",
     "output_type": "stream",
     "text": [
      "342\n",
      "549\n"
     ]
    }
   ],
   "source": [
    "print(Y_train.sum())\n",
    "print(len(Y_train) - Y_train.sum())"
   ]
  },
  {
   "cell_type": "code",
   "execution_count": 15,
   "metadata": {},
   "outputs": [],
   "source": [
    "rfe = Resampled_Cross_Validate(n_splits=5, verbose=True, sampler='OverSampler')"
   ]
  },
  {
   "cell_type": "code",
   "execution_count": 16,
   "metadata": {},
   "outputs": [
    {
     "name": "stdout",
     "output_type": "stream",
     "text": [
      "Start Processing Resampled Validation: 5 splits\n",
      "Done: 1, Totaling: 5\n",
      "Done: 2, Totaling: 5\n",
      "Done: 3, Totaling: 5\n",
      "Done: 4, Totaling: 5\n",
      "Done: 5, Totaling: 5\n"
     ]
    }
   ],
   "source": [
    "rfe.fit(X_train, Y_train)"
   ]
  },
  {
   "cell_type": "code",
   "execution_count": 17,
   "metadata": {},
   "outputs": [
    {
     "name": "stdout",
     "output_type": "stream",
     "text": [
      "0.829445734731\n",
      "0.776651905309\n",
      "0.782606644951\n",
      "0.777992423172\n",
      "0.82180427772\n"
     ]
    }
   ],
   "source": [
    "print(rfe.acc_.mean())\n",
    "print(rfe.pre_.mean())\n",
    "print(rfe.rec_.mean())\n",
    "print(rfe.f1_.mean())\n",
    "print(rfe.roc_auc_.mean())"
   ]
  },
  {
   "cell_type": "code",
   "execution_count": 18,
   "metadata": {},
   "outputs": [],
   "source": [
    "rfecv = Resampled_RFECV(n_steps=1, cv=5, sampler='OverSampler')"
   ]
  },
  {
   "cell_type": "code",
   "execution_count": 19,
   "metadata": {},
   "outputs": [
    {
     "name": "stderr",
     "output_type": "stream",
     "text": [
      "100%|██████████| 13/13 [00:02<00:00,  5.66it/s]\n"
     ]
    }
   ],
   "source": [
    "rfecv.fit(X_train, Y_train)"
   ]
  },
  {
   "cell_type": "code",
   "execution_count": 20,
   "metadata": {},
   "outputs": [
    {
     "data": {
      "text/plain": [
       "array([ 0.6723244 ,  0.6846714 ,  0.69927814,  0.810376  ,  0.81708618,\n",
       "        0.82269161,  0.81373423,  0.82045069,  0.83281024,  0.82494508,\n",
       "        0.82832214,  0.83505116,  0.82157429])"
      ]
     },
     "execution_count": 20,
     "metadata": {},
     "output_type": "execute_result"
    }
   ],
   "source": [
    "rfecv.mean_score_['ACC']"
   ]
  },
  {
   "cell_type": "code",
   "execution_count": 22,
   "metadata": {},
   "outputs": [
    {
     "data": {
      "text/plain": [
       "<Figure size 432x288 with 0 Axes>"
      ]
     },
     "metadata": {},
     "output_type": "display_data"
    },
    {
     "data": {
      "image/png": "[encoded data removed]",
      "text/plain": [
       "<Figure size 576x360 with 1 Axes>"
      ]
     },
     "metadata": {},
     "output_type": "display_data"
    }
   ],
   "source": [
    "rfecv.draw_figure(X_train, Y_train, ymin=0.5, ymax=0.9, fill_btw=True)"
   ]
  },
  {
   "cell_type": "code",
   "execution_count": 23,
   "metadata": {},
   "outputs": [
    {
     "data": {
      "text/plain": [
       "<Figure size 432x288 with 0 Axes>"
      ]
     },
     "metadata": {},
     "output_type": "display_data"
    },
    {
     "data": {
      "image/png": "[encoded data removed]",
      "text/plain": [
       "<Figure size 576x360 with 1 Axes>"
      ]
     },
     "metadata": {},
     "output_type": "display_data"
    }
   ],
   "source": [
    "rfecv.draw_barchart(X_train, Y_train)"
   ]
  },
  {
   "cell_type": "code",
   "execution_count": 24,
   "metadata": {},
   "outputs": [
    {
     "name": "stdout",
     "output_type": "stream",
     "text": [
      "Checking Cross Validation Score with Balanced Bagging: 5 splits\n",
      "Done: 1, Totaling: 5\n",
      "Done: 2, Totaling: 5\n",
      "Done: 3, Totaling: 5\n",
      "Done: 4, Totaling: 5\n",
      "Done: 5, Totaling: 5\n"
     ]
    }
   ],
   "source": [
    "bbv = BalancedBagging_Valudation(n_jobs=-1, n_estimators=10, cv=5)\n",
    "bbv.fit(X_train, Y_train)"
   ]
  },
  {
   "cell_type": "code",
   "execution_count": 26,
   "metadata": {},
   "outputs": [
    {
     "data": {
      "text/plain": [
       "array([ 0.77653631,  0.83146067,  0.8258427 ,  0.80898876,  0.87078652])"
      ]
     },
     "execution_count": 26,
     "metadata": {},
     "output_type": "execute_result"
    }
   ],
   "source": [
    "bbv.acc_"
   ]
  },
  {
   "cell_type": "code",
   "execution_count": 27,
   "metadata": {},
   "outputs": [
    {
     "data": {
      "text/plain": [
       "array([0, 0, 0, 0, 1, 0, 1, 0, 1, 0, 0, 0, 1, 0, 1, 1, 0, 0, 1, 1, 1, 0, 1,\n",
       "       1, 1, 0, 1, 0, 0, 0, 0, 0, 1, 1, 1, 0, 1, 0, 0, 0, 0, 0, 0, 1, 1, 0,\n",
       "       0, 0, 1, 1, 1, 0, 1, 1, 0, 0, 0, 0, 0, 1, 0, 0, 0, 1, 1, 1, 1, 0, 1,\n",
       "       1, 1, 0, 1, 1, 1, 1, 0, 1, 0, 1, 1, 0, 0, 0, 0, 0, 1, 1, 1, 1, 1, 0,\n",
       "       1, 0, 0, 0, 1, 0, 1, 0, 1, 0, 0, 0, 1, 0, 0, 0, 0, 0, 0, 1, 1, 1, 1,\n",
       "       0, 0, 1, 1, 1, 1, 0, 1, 0, 0, 1, 0, 1, 0, 0, 0, 0, 0, 0, 0, 0, 0, 0,\n",
       "       1, 0, 0, 1, 0, 0, 0, 0, 0, 0, 0, 0, 1, 0, 0, 1, 0, 0, 1, 1, 0, 0, 1,\n",
       "       1, 1, 0, 0, 1, 0, 0, 1, 0, 0, 0, 0, 0, 0, 1, 1, 1, 1, 1, 0, 1, 1, 0,\n",
       "       1, 0, 1, 0, 0, 0, 0, 0, 0, 0, 1, 0, 1, 1, 0, 1, 1, 1, 0, 1, 0, 1, 1,\n",
       "       0, 1, 0, 0, 0, 0, 1, 0, 0, 1, 0, 1, 0, 1, 0, 1, 0, 1, 1, 0, 1, 0, 0,\n",
       "       0, 1, 0, 0, 1, 0, 0, 0, 1, 1, 1, 1, 0, 0, 1, 0, 1, 0, 1, 1, 1, 0, 1,\n",
       "       0, 0, 0, 0, 0, 1, 0, 0, 0, 1, 1, 0, 0, 0, 0, 1, 0, 0, 0, 1, 1, 0, 1,\n",
       "       0, 0, 0, 0, 0, 1, 1, 1, 1, 0, 0, 1, 0, 0, 0, 1, 0, 0, 0, 0, 1, 0, 0,\n",
       "       0, 0, 0, 0, 0, 1, 1, 0, 1, 0, 0, 0, 0, 0, 1, 1, 1, 0, 0, 0, 0, 0, 0,\n",
       "       0, 1, 1, 0, 1, 0, 0, 0, 1, 0, 0, 1, 0, 0, 0, 0, 0, 1, 0, 0, 0, 1, 1,\n",
       "       1, 0, 1, 0, 1, 1, 0, 0, 0, 1, 0, 1, 0, 0, 1, 0, 1, 1, 0, 1, 1, 0, 1,\n",
       "       1, 0, 0, 1, 0, 0, 1, 1, 0, 0, 0, 0, 0, 0, 1, 1, 0, 1, 0, 0, 0, 0, 1,\n",
       "       1, 1, 0, 0, 1, 0, 1, 0, 0, 1, 0, 1, 0, 0, 0, 0, 0, 1, 1, 1, 1, 1, 0,\n",
       "       1, 0, 0, 1], dtype=int64)"
      ]
     },
     "execution_count": 27,
     "metadata": {},
     "output_type": "execute_result"
    }
   ],
   "source": [
    "bbv.predict(X_test)"
   ]
  },
  {
   "cell_type": "code",
   "execution_count": 28,
   "metadata": {},
   "outputs": [],
   "source": [
    "clf = xgb.XGBClassifier(n_jobs=-1)"
   ]
  },
  {
   "cell_type": "code",
   "execution_count": 29,
   "metadata": {},
   "outputs": [
    {
     "data": {
      "text/plain": [
       "RFECV(cv=5,\n",
       "   estimator=XGBClassifier(base_score=0.5, booster='gbtree', colsample_bylevel=1,\n",
       "       colsample_bytree=1, gamma=0, learning_rate=0.1, max_delta_step=0,\n",
       "       max_depth=3, min_child_weight=1, missing=None, n_estimators=100,\n",
       "       n_jobs=-1, nthread=None, objective='binary:logistic',\n",
       "       random_state=0, reg_alpha=0, reg_lambda=1, scale_pos_weight=1,\n",
       "       seed=None, silent=True, subsample=1),\n",
       "   n_jobs=-1, scoring='accuracy', step=1, verbose=1)"
      ]
     },
     "execution_count": 29,
     "metadata": {},
     "output_type": "execute_result"
    }
   ],
   "source": [
    "rfe = RFECV(clf, scoring='accuracy', step=1, n_jobs=-1, verbose=1, cv=5)\n",
    "rfe.fit(X_train, Y_train)"
   ]
  },
  {
   "cell_type": "code",
   "execution_count": 30,
   "metadata": {},
   "outputs": [
    {
     "data": {
      "text/plain": [
       "<Figure size 800x550 with 0 Axes>"
      ]
     },
     "metadata": {},
     "output_type": "display_data"
    },
    {
     "data": {
      "image/png": "[encoded data removed]",
      "text/plain": [
       "<Figure size 800x500 with 1 Axes>"
      ]
     },
     "metadata": {},
     "output_type": "display_data"
    }
   ],
   "source": [
    "plt.clf()\n",
    "fig = plt.figure(figsize=(8,5), facecolor='w')\n",
    "plt.plot(range(1, len(rfe.grid_scores_)+1), rfe.grid_scores_, '-')\n",
    "plt.ylim(0.5, 0.9)\n",
    "plt.show()"
   ]
  },
  {
   "cell_type": "code",
   "execution_count": 31,
   "metadata": {},
   "outputs": [],
   "source": [
    "Y_predict = bbv.predict(X_test)\n",
    "result_BB = pd.DataFrame([PassangerId, Y_predict], index = ['PassengerId', 'Survived']).T\n",
    "result_BB.to_csv('result_BB.csv', index = False)"
   ]
  },
  {
   "cell_type": "code",
   "execution_count": null,
   "metadata": {},
   "outputs": [],
   "source": [
    "\"\"\"データの標準化\"\"\"\n",
    "scaler = MinMaxScaler((0, 1))\n",
    "scaler.fit(X_train)\n",
    "x_train= scaler.transform(X_train)\n",
    "x_test = scaler.transform(X_test)"
   ]
  },
  {
   "cell_type": "code",
   "execution_count": null,
   "metadata": {},
   "outputs": [],
   "source": [
    "\"\"\"チューニングパラメータの設定\"\"\"\n",
    "tuned_parameters_log = [\n",
    "    {'penalty': ['l1'], 'C': np.logspace(-2, 2, 10)},\n",
    "    {'penalty': ['l2'], 'C': np.logspace(-2, 2, 10)}\n",
    "]\n",
    "\n",
    "tuned_parameters_svm = [\n",
    "    {'C': np.logspace(-2, 2, 10), 'kernel': ['linear']},\n",
    "    {'C': np.logspace(-2, 2, 10), 'kernel': ['rbf'], 'gamma': [0.001, 0.0001]},\n",
    "    {'C': np.logspace(-2, 2, 10), 'kernel': ['poly'], 'gamma': [0.001, 0.0001]},\n",
    "    {'C': [1, 10, 100], 'kernel': ['sigmoid'], 'gamma': [0.001, 0.0001]}\n",
    "]\n",
    "\n",
    "tuned_parameters_rdfr = {\"max_depth\": [2,3, None],\n",
    "                         \"n_estimators\":[100, 200, 300],\n",
    "                         \"max_features\": [1, 3, 5],\n",
    "                         \"min_samples_split\": [2, 3, 10],\n",
    "                         \"min_samples_leaf\": [1, 3, 10],\n",
    "                         \"bootstrap\": [True, False],\n",
    "                         \"criterion\": [\"gini\", \"entropy\"]}\n",
    "\n",
    "tuned_parameters_gb = {'n_estimators': [100, 500, 1000, 2000, 3000],\n",
    "                       'learning_rate' : [0.1, 0.05, 0.02, 0.01], \n",
    "                       'max_depth': [4, 6],\n",
    "                       'min_samples_leaf': [3, 5, 9, 17],\n",
    "                       'max_features': [1.0, 0.3, 0.1]\n",
    "                      }\n",
    "\n",
    "tuned_parameters_ner = [\n",
    "                        {'hidden_layer_sizes': [(100), (100, 100), (100, 100, 10), (100, 100, 100, 10), (100, 50), (100, 50, 10), (10, 50, 50, 10)],\n",
    "                         'activation':  [\"relu\", \"tanh\", \"logistic\", \"identity\"],\n",
    "                         'alpha' : np.logspace(-5, -2, 5),\n",
    "                         'solver': [\"sgd\"],\n",
    "                         'learning_rate_init': [1.0, 0.01, 0.001, 0.0001],\n",
    "                         'learning_rate': ['constant', 'invscaling', 'adaptive']},\n",
    "                        {'hidden_layer_sizes': [(100), (100, 100), (100, 100, 10), (100, 100, 100, 10), (100, 50), (100, 50, 10), (10, 50, 50, 10)],\n",
    "                         'activation':  [\"relu\", \"tanh\", \"logistic\", ],\n",
    "                         'alpha' : np.logspace(-5, -2, 5),\n",
    "                         'solver': [\"adam\"],\n",
    "                         'learning_rate_init': [1.0, 0.01, 0.001, 0.0001]},\n",
    "                        {'hidden_layer_sizes': [(100), (100, 100), (100, 100, 10), (100, 100, 100, 10), (100, 50), (100, 50, 10), (10, 50, 50, 10)],\n",
    "                         'activation':  [\"relu\", \"tanh\", \"logistic\", \"identity\"],\n",
    "                         'alpha' : np.logspace(-5, -2, 5),\n",
    "                         'solver': [\"lbfgs\"]}\n",
    "                        ]\n",
    "\n",
    "tuned_parameters_xgb = {'max_depth': [2,4,6,10,20],\n",
    "                        'min_child_weight': [1, 2, 3, 4, 5],\n",
    "                        'gamma': np.logspace(-2, 2, 10)\n",
    "                       }"
   ]
  },
  {
   "cell_type": "code",
   "execution_count": null,
   "metadata": {},
   "outputs": [],
   "source": [
    "\"\"\"パラメータチューニングのためのグリットをセット\"\"\"\n",
    "grid_log = GridSearchCV(linear_model.LogisticRegression(),\n",
    "                        param_grid=tuned_parameters_log,\n",
    "                        scoring='accuracy',\n",
    "                        n_jobs=-1, verbose=3, cv=10)\n",
    "\n",
    "grid_ner = GridSearchCV(neural_network.MLPClassifier(max_iter=300),\n",
    "                       param_grid=tuned_parameters_ner,\n",
    "                       scoring='accuracy',\n",
    "                       n_jobs=-1, verbose=3, cv=5)\n",
    "\n",
    "grid_svm = GridSearchCV(svm.SVC(), tuned_parameters_svm, scoring = 'accuracy', n_jobs = -1, verbose = 3, cv=5)\n",
    "\n",
    "grid_rdfr = GridSearchCV(ensemble.RandomForestClassifier(random_state=0),\n",
    "                        param_grid=tuned_parameters_rdfr,\n",
    "                        scoring='accuracy',\n",
    "                        n_jobs=-1, verbose=3, cv=5)\n",
    "\n",
    "gird_gb = GridSearchCV(ensemble.GradientBoostingClassifier(),\n",
    "                      param_grid = tuned_parameters_gb,\n",
    "                      scoring='accuracy',\n",
    "                      n_jobs=-1, verbose=3, cv=5)\n",
    "\n",
    "grid_xgb = GridSearchCV(xgb.XGBClassifier(),\n",
    "                      param_grid = tuned_parameters_xgb,\n",
    "                      scoring='accuracy',\n",
    "                      n_jobs=-1, verbose=3, cv=10)"
   ]
  },
  {
   "cell_type": "code",
   "execution_count": null,
   "metadata": {},
   "outputs": [],
   "source": [
    "\"\"\"グリッドサーチの開始（フィッティング）\"\"\"\n",
    "#grid_ner.fit(x_train, Y_train)\n",
    "#grid_svm.fit(x_train, Y_train)\n",
    "#grid_rdfr.fit(x_train, Y_train)\n",
    "#grid_gb.fit(x_train, Y_train)\n",
    "grid_log.fit(x_train, Y_train)\n",
    "grid_xgb.fit(x_train, Y_train)"
   ]
  },
  {
   "cell_type": "code",
   "execution_count": null,
   "metadata": {},
   "outputs": [],
   "source": [
    "\"モデルの初期化\"\n",
    "clf_log = grid_log.best_estimator_\n",
    "clf_svm = svm.SVC()\n",
    "clf_tree = tree.DecisionTreeClassifier()\n",
    "clf_knn = neighbors.KNeighborsClassifier(n_neighbors = 3)\n",
    "clf_ner = neural_network.MLPClassifier(max_iter = 500)\n",
    "clf_rdfr = ensemble.RandomForestClassifier()\n",
    "clf_gb = ensemble.GradientBoostingClassifier()\n",
    "clf_xgb = grid_xgb.best_estimator_"
   ]
  },
  {
   "cell_type": "code",
   "execution_count": null,
   "metadata": {},
   "outputs": [],
   "source": [
    "model_list = [clf_log, clf_svm, clf_ner, clf_knn, clf_tree, clf_rdfr, clf_gb, clf_xgb]\n",
    "\n",
    "for model in model_list:\n",
    "    model.fit(x_train, Y_train)"
   ]
  },
  {
   "cell_type": "code",
   "execution_count": null,
   "metadata": {},
   "outputs": [],
   "source": [
    "for model in model_list:\n",
    "    print(\"Processing %s\" % model.__class__.__name__)\n",
    "    scores = cross_val_score(model, x_train, Y_train, cv=10, scoring = 'accuracy', n_jobs = -1)\n",
    "    print(\"Cross validation scores:{}\".format(scores.mean().round(3)))\n",
    "    print()"
   ]
  },
  {
   "cell_type": "markdown",
   "metadata": {},
   "source": [
    "\"\"\"グリッドサーチの結果の表示\"\"\"\n",
    "print('SVM best estimator: %s' % clf_svm.best_estimator_)\n",
    "print('SVM best parameter: %s' % clf_svm.best_params_)\n",
    "print('SVM best score: %f' % clf_svm.best_score_)\n",
    "\n",
    "print('NN best estimator: %s' % clf_ner.best_estimator_)\n",
    "print('NN best parameter: %s' % clf_ner.best_params_)\n",
    "print('NN best score: %f' % clf_ner.best_score_)\n",
    "\n",
    "print('RandomForest best estimator: %s' % clf_rdfr.best_estimator_)\n",
    "print('RandomForest best parameter: %s' % clf_rdfr.best_params_)\n",
    "print('RandomForest best score: %f' % clf_rdfr.best_score_)\n",
    "\n",
    "print('GradientBoosting best estimator: %s' % clf_gb.best_estimator_)\n",
    "print('GradientBoosting parameter: %s' % clf_gb.best_params_)\n",
    "print('GradientBoosting score: %f' % clf_gb.best_score_)"
   ]
  },
  {
   "cell_type": "code",
   "execution_count": null,
   "metadata": {},
   "outputs": [],
   "source": [
    "from sklearn.metrics import confusion_matrix"
   ]
  },
  {
   "cell_type": "code",
   "execution_count": null,
   "metadata": {},
   "outputs": [],
   "source": [
    "\"\"\"cofusion Matrixの描画\"\"\"\n",
    "confusion_matrix(Y_train, clf_xgb.predict(x_train))"
   ]
  },
  {
   "cell_type": "code",
   "execution_count": null,
   "metadata": {},
   "outputs": [],
   "source": [
    "\"\"\"Imporance Scoreの抽出、棒グラフの描画\"\"\"\n",
    "Importances = pd.concat([pd.Series(X_train.columns).reset_index(drop = True), pd.Series(clf_xgb.feature_importances_).reset_index(drop = True)], axis = 1)\n",
    "Importances.columns = ['Variables', 'Importance']\n",
    "Importances = Importances.sort_values(by='Importance', ascending=True)"
   ]
  },
  {
   "cell_type": "code",
   "execution_count": null,
   "metadata": {},
   "outputs": [],
   "source": [
    "plt.clf()\n",
    "fig = plt.figure(figsize=(10,6), facecolor='w')\n",
    "plt.barh(range(len(Importances)), Importances.Importance, color = 'red')\n",
    "plt.yticks(range(len(Importances)), Importances.Variables)\n",
    "plt.xlabel('Importance', fontsize = 12)\n",
    "plt.ylabel('Variables', fontsize = 12)\n",
    "plt.legend(loc='best', fontsize = 12)\n",
    "plt.tick_params(labelsize=12)\n",
    "plt.show()"
   ]
  },
  {
   "cell_type": "code",
   "execution_count": null,
   "metadata": {},
   "outputs": [],
   "source": [
    "from sklearn.feature_selection import RFECV, RFE"
   ]
  },
  {
   "cell_type": "code",
   "execution_count": null,
   "metadata": {},
   "outputs": [],
   "source": [
    "\"\"\"RFECVによる変数逐次削減\"\"\"\n",
    "selector = RFECV(clf_xgb, cv=10, step=1, scoring='accuracy', verbose=3, n_jobs=-1)"
   ]
  },
  {
   "cell_type": "code",
   "execution_count": null,
   "metadata": {},
   "outputs": [],
   "source": [
    "selector.fit(x_train, Y_train)"
   ]
  },
  {
   "cell_type": "code",
   "execution_count": null,
   "metadata": {},
   "outputs": [],
   "source": [
    "\"\"\"逐次削減結果の確認\"\"\"\n",
    "plt.clf()\n",
    "fig = plt.figure(figsize=(10,6), facecolor='w')\n",
    "plt.xlabel('No. of variables selected')\n",
    "plt.ylabel('Accuracy Score')\n",
    "plt.plot(range(1, len(selector.grid_scores_)+1), selector.grid_scores_, 'o-')\n",
    "plt.show()"
   ]
  },
  {
   "cell_type": "code",
   "execution_count": null,
   "metadata": {},
   "outputs": [],
   "source": [
    "\"\"\"最大精度を出す変数群を取得(transformメソッドでも行ける)\"\"\"\n",
    "var = pd.Series(X_train.columns).reset_index(drop=True)\n",
    "sel = pd.Series(selector.get_support()).reset_index(drop=True)\n",
    "varlist = pd.concat([var, sel], axis = 1)\n",
    "varlist.columns = ['var', 'bool']"
   ]
  },
  {
   "cell_type": "code",
   "execution_count": null,
   "metadata": {},
   "outputs": [],
   "source": [
    "selector.get_support()"
   ]
  },
  {
   "cell_type": "code",
   "execution_count": null,
   "metadata": {},
   "outputs": [],
   "source": [
    "X_selected_train = X_train.loc[:, varlist[varlist['bool'] == True]['var']]"
   ]
  },
  {
   "cell_type": "code",
   "execution_count": null,
   "metadata": {},
   "outputs": [],
   "source": [
    "scaler_select = MinMaxScaler((0,1))\n",
    "x_selected_train = scaler_select.fit(X_selected_train)\n",
    "x_selected_train = scaler_select.transform(X_selected_train)"
   ]
  },
  {
   "cell_type": "code",
   "execution_count": null,
   "metadata": {},
   "outputs": [],
   "source": [
    "train_sizes, train_scores, test_scores = learning_curve(estimator=clf_xgb, X=x_selected_train, y=Y_train,\n",
    "                                                        train_sizes=np.linspace(0.1, 1.0, 10),\n",
    "                                                        cv=10, n_jobs=-1, verbose=3)"
   ]
  },
  {
   "cell_type": "code",
   "execution_count": null,
   "metadata": {},
   "outputs": [],
   "source": [
    "train_mean = np.mean(train_scores, axis=1)\n",
    "train_std = np.std(train_scores, axis=1)\n",
    "test_mean = np.mean(test_scores, axis=1)\n",
    "test_std = np.std(test_scores, axis=1)"
   ]
  },
  {
   "cell_type": "code",
   "execution_count": null,
   "metadata": {},
   "outputs": [],
   "source": [
    "plt.clf()\n",
    "fig = plt.figure(figsize=(10,6), facecolor='w')\n",
    "plt.plot(train_sizes, train_mean, color = 'blue', marker='o', markersize=5, label='training accuracy')\n",
    "plt.fill_between(train_sizes, train_mean+train_std, train_mean-train_std, alpha=0.15, color='b')\n",
    "\n",
    "plt.plot(train_sizes, test_mean, color = 'green', marker='s', linestyle='--', markersize=5, label='validation accuracy')\n",
    "plt.fill_between(train_sizes, test_mean+test_std, test_mean-test_std, alpha=0.15, color='green')\n",
    "\n",
    "plt.grid()\n",
    "plt.xlabel('No. of Traning Samples')\n",
    "plt.ylabel('Accuracy')\n",
    "plt.legend(loc ='best')\n",
    "\n",
    "plt.show()"
   ]
  },
  {
   "cell_type": "code",
   "execution_count": null,
   "metadata": {},
   "outputs": [],
   "source": [
    "X_selected_test = X_test.loc[:, varlist[varlist['bool'] == True]['var']]"
   ]
  },
  {
   "cell_type": "code",
   "execution_count": null,
   "metadata": {},
   "outputs": [],
   "source": [
    "scaler_select = MinMaxScaler((0,1))\n",
    "x_selected_test = scaler_select.fit(X_selected_test)\n",
    "x_selected_test = scaler_select.transform(X_selected_test)"
   ]
  },
  {
   "cell_type": "code",
   "execution_count": null,
   "metadata": {},
   "outputs": [],
   "source": [
    "tuned_parameters_log = [\n",
    "    {'penalty': ['l1'], 'C': np.logspace(-2, 2, 10)},\n",
    "    {'penalty': ['l1'], 'C': np.logspace(-2, 2, 10)}\n",
    "]"
   ]
  },
  {
   "cell_type": "code",
   "execution_count": null,
   "metadata": {},
   "outputs": [],
   "source": [
    "grid_log = GridSearchCV(linear_model.LogisticRegression(),\n",
    "                        param_grid=tuned_parameters_log,\n",
    "                        scoring='accuracy',\n",
    "                        n_jobs=-1, verbose=3, cv=10)"
   ]
  },
  {
   "cell_type": "code",
   "execution_count": null,
   "metadata": {},
   "outputs": [],
   "source": [
    "grid_log.fit(x_selected_train, Y_train)"
   ]
  },
  {
   "cell_type": "markdown",
   "metadata": {},
   "source": [
    "Xgbだとパラメータチューニング、変数選択をしてもバリアンスが大きい<br>\n",
    "つまり、トレーニングデータが少なすぎる<br>\n",
    "\n",
    "一方、Logistic回帰は、バリアンスが小さい<br>\n",
    "やっぱりロジスティクス回帰が一番いいモデルなのかも<br>"
   ]
  },
  {
   "cell_type": "code",
   "execution_count": null,
   "metadata": {},
   "outputs": [],
   "source": [
    "Y_predict = grid_log.best_estimator_.predict(x_selected_test)"
   ]
  },
  {
   "cell_type": "code",
   "execution_count": null,
   "metadata": {},
   "outputs": [],
   "source": [
    "result_log = pd.DataFrame([PassangerId, Y_predict], index = ['PassengerId', 'Survived']).T\n",
    "result_log.to_csv('result_log.csv', index = False)"
   ]
  }
 ],
 "metadata": {
  "kernelspec": {
   "display_name": "Python 3",
   "language": "python",
   "name": "python3"
  },
  "language_info": {
   "codemirror_mode": {
    "name": "ipython",
    "version": 3
   },
   "file_extension": ".py",
   "mimetype": "text/x-python",
   "name": "python",
   "nbconvert_exporter": "python",
   "pygments_lexer": "ipython3",
   "version": "3.6.3"
  }
 },
 "nbformat": 4,
 "nbformat_minor": 2
}
