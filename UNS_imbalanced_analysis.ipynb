{
 "cells": [
  {
   "cell_type": "code",
   "execution_count": 75,
   "metadata": {},
   "outputs": [],
   "source": [
    "import numpy as np\n",
    "import pandas as pd\n",
    "import os\n",
    "from matplotlib import pyplot as plt\n",
    "from sklearn.preprocessing import StandardScaler, MinMaxScaler\n",
    "from sklearn import linear_model, svm, tree, neighbors, ensemble\n",
    "from sklearn.model_selection import train_test_split, cross_val_score, cross_validate, KFold, StratifiedKFold\n",
    "from sklearn.feature_selection import SelectFromModel, RFE, RFECV\n",
    "from sklearn.grid_search import GridSearchCV\n",
    "from time import time\n",
    "import xgboost as xgb\n",
    "from sklearn.metrics import confusion_matrix, f1_score, precision_score, recall_score, roc_auc_score\n",
    "from imblearn.over_sampling import RandomOverSampler, SMOTE\n",
    "from imblearn.under_sampling import RandomUnderSampler\n",
    "from imblearn.ensemble import BalancedBaggingClassifier\n",
    "from sklearn.pipeline import make_pipeline\n",
    "from tqdm import tqdm"
   ]
  },
  {
   "cell_type": "code",
   "execution_count": 76,
   "metadata": {},
   "outputs": [],
   "source": [
    "\"\"\"警告の非表示\"\"\"\n",
    "import warnings\n",
    "warnings.filterwarnings('ignore')"
   ]
  },
  {
   "cell_type": "code",
   "execution_count": 77,
   "metadata": {},
   "outputs": [],
   "source": [
    "%precision 3\n",
    "%matplotlib inline"
   ]
  },
  {
   "cell_type": "code",
   "execution_count": 78,
   "metadata": {},
   "outputs": [],
   "source": [
    "os.chdir('D:/LocalData/N196003/Desktop/UNS/2017 US UNS SPSS-sav')"
   ]
  },
  {
   "cell_type": "code",
   "execution_count": 79,
   "metadata": {},
   "outputs": [],
   "source": [
    "NG = [0 for i in range(14)]"
   ]
  },
  {
   "cell_type": "code",
   "execution_count": 80,
   "metadata": {},
   "outputs": [],
   "source": [
    "for i in range(1, 14):\n",
    "    NG[i] = pd.read_csv('NG_ ' + str(i) + '_.csv')\n",
    "    NG[i] = NG[i].drop('Unnamed: 0', axis=1)"
   ]
  },
  {
   "cell_type": "code",
   "execution_count": 81,
   "metadata": {},
   "outputs": [],
   "source": [
    "X_original = NG[1].drop('1', axis=1)\n",
    "Y_original = NG[1]['1']"
   ]
  },
  {
   "cell_type": "code",
   "execution_count": 82,
   "metadata": {},
   "outputs": [],
   "source": [
    "X_train, X_test, y_train, y_test = train_test_split(X_original, Y_original, test_size = 0.3, random_state = 0)"
   ]
  },
  {
   "cell_type": "code",
   "execution_count": 83,
   "metadata": {},
   "outputs": [],
   "source": [
    "negative_count_train = y_train[y_train == 0].count()\n",
    "positive_count_train = y_train[y_train == 1].count()"
   ]
  },
  {
   "cell_type": "code",
   "execution_count": 84,
   "metadata": {},
   "outputs": [],
   "source": [
    "def Resampled_Valudation(X_train, y_train, n_splits):\n",
    "    \n",
    "    matrix = []\n",
    "    PRE = []\n",
    "    REC = []\n",
    "    F1 = []\n",
    "    ROC_AUC = []\n",
    "    k = 1\n",
    "    \n",
    "    flod = KFold(n_splits=n_splits, random_state=1)\n",
    "    r = 0.5\n",
    "    \n",
    "    for train_index, test_index in flod.split(X_train, y_train):\n",
    "        x_ta = X_train.values[train_index]\n",
    "        x_te = X_train.values[test_index]\n",
    "        y_ta = y_train.values[train_index]\n",
    "        y_te = y_train.values[test_index]\n",
    "        \n",
    "        negative_count = len(y_ta) - y_ta.sum()\n",
    "        positive_count = y_ta.sum()\n",
    "\n",
    "        smt = RandomUnderSampler(ratio={0: positive_count, 1: positive_count})\n",
    "        #smt =SMOTE(ratio='auto', n_jobs=-1)\n",
    "        x_ta_resampled, y_ta_resampled = smt.fit_sample(x_ta, y_ta)\n",
    "\n",
    "        sts = StandardScaler()\n",
    "        clf = xgb.XGBClassifier()\n",
    "        pipe = make_pipeline(sts, clf)\n",
    "\n",
    "        pipe.fit(x_ta_resampled, y_ta_resampled)\n",
    "        y_pred = pipe.predict(x_te)\n",
    "\n",
    "        matrix.append(confusion_matrix(y_te, y_pred))\n",
    "        PRE.append(precision_score(y_te, y_pred))\n",
    "        REC.append(recall_score(y_te, y_pred))\n",
    "        F1.append(f1_score(y_te, y_pred))\n",
    "        ROC_AUC.append(roc_auc_score(y_te, y_pred))\n",
    "        \n",
    "        print (\"Done: %d, Totaling: %d\" % (k, n_splits))\n",
    "        k += 1\n",
    "        \n",
    "    return matrix, np.array(PRE), np.array(REC), np.array(F1), np.array(ROC_AUC)"
   ]
  },
  {
   "cell_type": "code",
   "execution_count": 86,
   "metadata": {},
   "outputs": [
    {
     "name": "stdout",
     "output_type": "stream",
     "text": [
      "Done: 1, Totaling: 5\n",
      "Done: 2, Totaling: 5\n",
      "Done: 3, Totaling: 5\n",
      "Done: 4, Totaling: 5\n",
      "Done: 5, Totaling: 5\n"
     ]
    }
   ],
   "source": [
    "Matrix, PRE, REC, F1, ROC_AUC = Resampled_Valudation(X_train, y_train, 5)"
   ]
  },
  {
   "cell_type": "code",
   "execution_count": 87,
   "metadata": {},
   "outputs": [
    {
     "data": {
      "text/plain": [
       "(0.328, 0.879, 0.847)"
      ]
     },
     "execution_count": 87,
     "metadata": {},
     "output_type": "execute_result"
    }
   ],
   "source": [
    "PRE.mean(), REC.mean(), ROC_AUC.mean()"
   ]
  },
  {
   "cell_type": "code",
   "execution_count": 88,
   "metadata": {},
   "outputs": [
    {
     "data": {
      "text/plain": [
       "array([[2108,  443],\n",
       "       [  33,  228]], dtype=int64)"
      ]
     },
     "execution_count": 88,
     "metadata": {},
     "output_type": "execute_result"
    }
   ],
   "source": [
    "Matrix[3]"
   ]
  },
  {
   "cell_type": "code",
   "execution_count": 89,
   "metadata": {},
   "outputs": [],
   "source": [
    "def get_importance_score(X, IM_score):\n",
    "    Questions = pd.DataFrame(X.columns)\n",
    "    importance = pd.DataFrame(IM_score)\n",
    "    Score = pd.concat([Questions, importance], axis=1)\n",
    "    Score.columns = ['Var', 'Score']\n",
    "    return Score"
   ]
  },
  {
   "cell_type": "code",
   "execution_count": 90,
   "metadata": {},
   "outputs": [],
   "source": [
    "def Resampled_Valudation_Score(X_train, y_train, n_splits, verbose=False):\n",
    "    \n",
    "    ROC_AUC = []\n",
    "    F1 = []\n",
    "    Importance_Score = []\n",
    "    k = 1\n",
    "    \n",
    "    flod = KFold(n_splits=n_splits, random_state=1)\n",
    "    r = 0.5\n",
    "    \n",
    "    for train_index, test_index in flod.split(X_train, y_train):\n",
    "        x_ta = X_train.values[train_index]\n",
    "        x_te = X_train.values[test_index]\n",
    "        y_ta = y_train.values[train_index]\n",
    "        y_te = y_train.values[test_index]\n",
    "        \n",
    "        negative_count = len(y_ta) - y_ta.sum()\n",
    "        positive_count = y_ta.sum()\n",
    "\n",
    "        smt = RandomUnderSampler(ratio={0: positive_count, 1: positive_count})\n",
    "        #smt =SMOTE(ratio='auto', n_jobs=-1)\n",
    "        x_ta_resampled, y_ta_resampled = smt.fit_sample(x_ta, y_ta)\n",
    "\n",
    "        sts = StandardScaler()\n",
    "        clf = xgb.XGBClassifier(n_jobs=-1)\n",
    "        \n",
    "        sts.fit(x_ta_resampled)\n",
    "        x_ta_resampled = sts.transform(x_ta_resampled)\n",
    "        x_te = sts.transform(x_te)\n",
    "        \n",
    "        clf.fit(x_ta_resampled, y_ta_resampled)\n",
    "        y_pred = clf.predict(x_te)\n",
    "\n",
    "        ROC_AUC.append(roc_auc_score(y_te, y_pred))\n",
    "        F1.append(f1_score(y_te, y_pred))\n",
    "        Importance_Score.append(clf.feature_importances_)\n",
    "        \n",
    "        if verbose == True:\n",
    "            print (\"Done: %d, Totaling: %d\" % (k, n_splits))\n",
    "        else:\n",
    "            pass\n",
    "        \n",
    "        k += 1\n",
    "        \n",
    "    return np.array(ROC_AUC), np.array(F1), get_importance_score(X_train, sum(Importance_Score) / n_splits)"
   ]
  },
  {
   "cell_type": "code",
   "execution_count": 91,
   "metadata": {},
   "outputs": [],
   "source": [
    "def Resampled_RFECV(X, y, n_steps, cv, verbose=False):\n",
    "    if 100 % n_steps != 0:\n",
    "        print(\"Error: n_steps must be a divisior of 100\")\n",
    "        return 1\n",
    "    else:\n",
    "        ROC_SCORE_mean = []\n",
    "        F1_SCORE_mean = []\n",
    "        Questions = []\n",
    "        \n",
    "        step = np.arange(n_steps, 100+n_steps, n_steps)[::-1]\n",
    "        for i in tqdm(range(len(step))):\n",
    "            \n",
    "            if verbose == True:\n",
    "                print(\"Fitting: %d features\" % step[i])\n",
    "            else:\n",
    "                pass\n",
    "            \n",
    "            ROC_SCORE, F1_SCORE, IM_score = Resampled_Valudation_Score(X, y, cv)\n",
    "            IM_new = IM_score.sort_values(by='Score').reset_index(drop=True).drop(range(n_steps))\n",
    "            ROC_SCORE_mean.append(ROC_SCORE.mean())\n",
    "            F1_SCORE_mean.append(F1_SCORE.mean())\n",
    "            X = X.loc[:, IM_new.Var]\n",
    "            Questions.append(IM_new)\n",
    "            \n",
    "        return np.array(ROC_SCORE_mean[::-1]), np.array(F1_SCORE_mean[::-1]), Questions[::-1]"
   ]
  },
  {
   "cell_type": "code",
   "execution_count": 92,
   "metadata": {},
   "outputs": [
    {
     "name": "stderr",
     "output_type": "stream",
     "text": [
      "\n",
      "\n",
      "  0%|          | 0/100 [00:00<?, ?it/s]\n",
      "\n",
      "  1%|          | 1/100 [00:04<06:57,  4.22s/it]\n",
      "\n",
      "  2%|▏         | 2/100 [00:08<06:47,  4.16s/it]\n",
      "\n",
      "  3%|▎         | 3/100 [00:12<06:44,  4.17s/it]\n",
      "\n",
      "  4%|▍         | 4/100 [00:16<06:37,  4.14s/it]\n",
      "\n",
      "  5%|▌         | 5/100 [00:20<06:32,  4.13s/it]\n",
      "\n",
      "  6%|▌         | 6/100 [00:24<06:24,  4.09s/it]\n",
      "\n",
      "  7%|▋         | 7/100 [00:28<06:18,  4.07s/it]\n",
      "\n",
      "  8%|▊         | 8/100 [00:33<06:20,  4.14s/it]\n",
      "\n",
      "  9%|▉         | 9/100 [00:37<06:18,  4.15s/it]\n",
      "\n",
      " 10%|█         | 10/100 [00:41<06:13,  4.15s/it]\n",
      "\n",
      " 11%|█         | 11/100 [00:45<06:05,  4.11s/it]\n",
      "\n",
      " 12%|█▏        | 12/100 [00:48<05:58,  4.08s/it]\n",
      "\n",
      " 13%|█▎        | 13/100 [00:52<05:53,  4.07s/it]\n",
      "\n",
      " 14%|█▍        | 14/100 [00:56<05:46,  4.03s/it]\n",
      "\n",
      " 15%|█▌        | 15/100 [01:00<05:40,  4.00s/it]\n",
      "\n",
      " 16%|█▌        | 16/100 [01:03<05:33,  3.97s/it]\n",
      "\n",
      " 17%|█▋        | 17/100 [01:07<05:27,  3.95s/it]\n",
      "\n",
      " 18%|█▊        | 18/100 [01:10<05:22,  3.94s/it]\n",
      "\n",
      " 19%|█▉        | 19/100 [01:14<05:17,  3.92s/it]\n",
      "\n",
      " 20%|██        | 20/100 [01:18<05:12,  3.91s/it]\n",
      "\n",
      " 21%|██        | 21/100 [01:21<05:06,  3.88s/it]\n",
      "\n",
      " 22%|██▏       | 22/100 [01:24<05:00,  3.85s/it]\n",
      "\n",
      " 23%|██▎       | 23/100 [01:28<04:54,  3.83s/it]\n",
      "\n",
      " 24%|██▍       | 24/100 [01:31<04:49,  3.81s/it]\n",
      "\n",
      " 25%|██▌       | 25/100 [01:34<04:44,  3.79s/it]\n",
      "\n",
      " 26%|██▌       | 26/100 [01:38<04:40,  3.79s/it]\n",
      "\n",
      " 27%|██▋       | 27/100 [01:41<04:34,  3.77s/it]\n",
      "\n",
      " 28%|██▊       | 28/100 [01:44<04:29,  3.74s/it]\n",
      "\n",
      " 29%|██▉       | 29/100 [01:47<04:24,  3.72s/it]\n",
      "\n",
      " 30%|███       | 30/100 [01:51<04:19,  3.71s/it]\n",
      "\n",
      " 31%|███       | 31/100 [01:54<04:14,  3.68s/it]\n",
      "\n",
      " 32%|███▏      | 32/100 [01:57<04:08,  3.66s/it]\n",
      "\n",
      " 33%|███▎      | 33/100 [02:00<04:03,  3.64s/it]\n",
      "\n",
      " 34%|███▍      | 34/100 [02:02<03:58,  3.62s/it]\n",
      "\n",
      " 35%|███▌      | 35/100 [02:05<03:53,  3.59s/it]\n",
      "\n",
      " 36%|███▌      | 36/100 [02:08<03:48,  3.58s/it]\n",
      "\n",
      " 37%|███▋      | 37/100 [02:11<03:43,  3.55s/it]\n",
      "\n",
      " 38%|███▊      | 38/100 [02:14<03:39,  3.53s/it]\n",
      "\n",
      " 39%|███▉      | 39/100 [02:17<03:34,  3.52s/it]\n",
      "\n",
      " 40%|████      | 40/100 [02:19<03:29,  3.50s/it]\n",
      "\n",
      " 41%|████      | 41/100 [02:22<03:25,  3.48s/it]\n",
      "\n",
      " 42%|████▏     | 42/100 [02:25<03:20,  3.46s/it]\n",
      "\n",
      " 43%|████▎     | 43/100 [02:27<03:15,  3.44s/it]\n",
      "\n",
      " 44%|████▍     | 44/100 [02:30<03:11,  3.42s/it]\n",
      "\n",
      " 45%|████▌     | 45/100 [02:33<03:07,  3.41s/it]\n",
      "\n",
      " 46%|████▌     | 46/100 [02:36<03:03,  3.39s/it]\n",
      "\n",
      " 47%|████▋     | 47/100 [02:38<02:58,  3.37s/it]\n",
      "\n",
      " 48%|████▊     | 48/100 [02:41<02:55,  3.37s/it]\n",
      "\n",
      " 49%|████▉     | 49/100 [02:45<02:51,  3.37s/it]\n",
      "\n",
      " 50%|█████     | 50/100 [02:48<02:48,  3.37s/it]\n",
      "\n",
      " 51%|█████     | 51/100 [02:51<02:44,  3.35s/it]\n",
      "\n",
      " 52%|█████▏    | 52/100 [02:53<02:39,  3.33s/it]\n",
      "\n",
      " 53%|█████▎    | 53/100 [02:55<02:35,  3.31s/it]\n",
      "\n",
      " 54%|█████▍    | 54/100 [02:57<02:31,  3.29s/it]\n",
      "\n",
      " 55%|█████▌    | 55/100 [02:59<02:27,  3.27s/it]\n",
      "\n",
      " 56%|█████▌    | 56/100 [03:02<02:23,  3.26s/it]\n",
      "\n",
      " 57%|█████▋    | 57/100 [03:05<02:19,  3.25s/it]\n",
      "\n",
      " 58%|█████▊    | 58/100 [03:07<02:15,  3.23s/it]\n",
      "\n",
      " 59%|█████▉    | 59/100 [03:09<02:11,  3.21s/it]\n",
      "\n",
      " 60%|██████    | 60/100 [03:11<02:07,  3.19s/it]\n",
      "\n",
      " 61%|██████    | 61/100 [03:14<02:04,  3.19s/it]\n",
      "\n",
      " 62%|██████▏   | 62/100 [03:16<02:00,  3.17s/it]\n",
      "\n",
      " 63%|██████▎   | 63/100 [03:19<01:57,  3.16s/it]\n",
      "\n",
      " 64%|██████▍   | 64/100 [03:21<01:53,  3.15s/it]\n",
      "\n",
      " 65%|██████▌   | 65/100 [03:23<01:49,  3.14s/it]\n",
      "\n",
      " 66%|██████▌   | 66/100 [03:26<01:46,  3.13s/it]\n",
      "\n",
      " 67%|██████▋   | 67/100 [03:28<01:42,  3.11s/it]\n",
      "\n",
      " 68%|██████▊   | 68/100 [03:30<01:39,  3.10s/it]\n",
      "\n",
      " 69%|██████▉   | 69/100 [03:32<01:35,  3.08s/it]\n",
      "\n",
      " 70%|███████   | 70/100 [03:34<01:32,  3.07s/it]\n",
      "\n",
      " 71%|███████   | 71/100 [03:36<01:28,  3.05s/it]\n",
      "\n",
      " 72%|███████▏  | 72/100 [03:37<01:24,  3.03s/it]\n",
      "\n",
      " 73%|███████▎  | 73/100 [03:39<01:21,  3.01s/it]\n",
      "\n",
      " 74%|███████▍  | 74/100 [03:40<01:17,  2.98s/it]\n",
      "\n",
      " 75%|███████▌  | 75/100 [03:42<01:14,  2.96s/it]\n",
      "\n",
      " 76%|███████▌  | 76/100 [03:43<01:10,  2.94s/it]\n",
      "\n",
      " 77%|███████▋  | 77/100 [03:44<01:07,  2.92s/it]\n",
      "\n",
      " 78%|███████▊  | 78/100 [03:46<01:03,  2.90s/it]\n",
      "\n",
      " 79%|███████▉  | 79/100 [03:47<01:00,  2.88s/it]\n",
      "\n",
      " 80%|████████  | 80/100 [03:48<00:57,  2.86s/it]\n",
      "\n",
      " 81%|████████  | 81/100 [03:49<00:53,  2.83s/it]\n",
      "\n",
      " 82%|████████▏ | 82/100 [03:50<00:50,  2.81s/it]\n",
      "\n",
      " 83%|████████▎ | 83/100 [03:51<00:47,  2.79s/it]\n",
      "\n",
      " 84%|████████▍ | 84/100 [03:52<00:44,  2.77s/it]\n",
      "\n",
      " 85%|████████▌ | 85/100 [03:53<00:41,  2.75s/it]\n",
      "\n",
      " 86%|████████▌ | 86/100 [03:54<00:38,  2.73s/it]\n",
      "\n",
      " 87%|████████▋ | 87/100 [03:55<00:35,  2.71s/it]\n",
      "\n",
      " 88%|████████▊ | 88/100 [03:56<00:32,  2.69s/it]\n",
      "\n",
      " 89%|████████▉ | 89/100 [03:57<00:29,  2.67s/it]\n",
      "\n",
      " 90%|█████████ | 90/100 [03:58<00:26,  2.65s/it]\n",
      "\n",
      " 91%|█████████ | 91/100 [03:58<00:23,  2.63s/it]\n",
      "\n",
      " 92%|█████████▏| 92/100 [03:59<00:20,  2.61s/it]\n",
      "\n",
      " 93%|█████████▎| 93/100 [04:00<00:18,  2.59s/it]\n",
      "\n",
      " 94%|█████████▍| 94/100 [04:01<00:15,  2.57s/it]\n",
      "\n",
      " 95%|█████████▌| 95/100 [04:01<00:12,  2.55s/it]\n",
      "\n",
      " 96%|█████████▌| 96/100 [04:02<00:10,  2.53s/it]\n",
      "\n",
      " 97%|█████████▋| 97/100 [04:03<00:07,  2.51s/it]\n",
      "\n",
      " 98%|█████████▊| 98/100 [04:03<00:04,  2.49s/it]\n",
      "\n",
      " 99%|█████████▉| 99/100 [04:04<00:02,  2.47s/it]\n",
      "\n",
      "100%|██████████| 100/100 [04:04<00:00,  2.45s/it]\n",
      "\n"
     ]
    }
   ],
   "source": [
    "ROC_AUC_mean, F1_SCORE_mean, Selected_Q = Resampled_RFECV(X_train, y_train, n_steps=1, cv=5, verbose=False)"
   ]
  },
  {
   "cell_type": "code",
   "execution_count": 93,
   "metadata": {},
   "outputs": [
    {
     "data": {
      "text/plain": [
       "<matplotlib.figure.Figure at 0x23556710>"
      ]
     },
     "metadata": {},
     "output_type": "display_data"
    },
    {
     "data": {
      "image/png": "[encoded data removed]",
      "text/plain": [
       "<matplotlib.figure.Figure at 0x235566d8>"
      ]
     },
     "metadata": {},
     "output_type": "display_data"
    }
   ],
   "source": [
    "\"\"\"設問数と精度の関係を描画\"\"\"\n",
    "plt.clf()\n",
    "fig = plt.figure(figsize=(8,5), facecolor='w')\n",
    "plt.plot(np.arange(1, 101, 1), ROC_AUC_mean, '-', label='ROC AUC')\n",
    "plt.plot(np.arange(1, 101, 1), F1_SCORE_mean, '--', label='F1 Score')\n",
    "plt.vlines(10, 0.0, 0.9, 'red', linestyles='dashed', label ='No. of Q = 10')\n",
    "plt.vlines(15, 0.0, 0.9, 'blue', linestyles='dashed', label ='No. of Q = 15')\n",
    "plt.xlabel('No. of Questions (Global Common Atrribute) Selected', fontsize = 8)\n",
    "plt.ylabel('Score', fontsize = 8)\n",
    "plt.ylim(0, 0.9)\n",
    "plt.legend(loc='lower right')\n",
    "plt.show()"
   ]
  },
  {
   "cell_type": "code",
   "execution_count": 100,
   "metadata": {},
   "outputs": [
    {
     "data": {
      "text/html": [
       "<div>\n",
       "<style scoped>\n",
       "    .dataframe tbody tr th:only-of-type {\n",
       "        vertical-align: middle;\n",
       "    }\n",
       "\n",
       "    .dataframe tbody tr th {\n",
       "        vertical-align: top;\n",
       "    }\n",
       "\n",
       "    .dataframe thead th {\n",
       "        text-align: right;\n",
       "    }\n",
       "</style>\n",
       "<table border=\"1\" class=\"dataframe\">\n",
       "  <thead>\n",
       "    <tr style=\"text-align: right;\">\n",
       "      <th></th>\n",
       "      <th>Var</th>\n",
       "      <th>Score</th>\n",
       "    </tr>\n",
       "  </thead>\n",
       "  <tbody>\n",
       "    <tr>\n",
       "      <th>1</th>\n",
       "      <td>Q2_25</td>\n",
       "      <td>0.071044</td>\n",
       "    </tr>\n",
       "    <tr>\n",
       "      <th>2</th>\n",
       "      <td>Q5_58</td>\n",
       "      <td>0.071821</td>\n",
       "    </tr>\n",
       "    <tr>\n",
       "      <th>3</th>\n",
       "      <td>Q5_22</td>\n",
       "      <td>0.089347</td>\n",
       "    </tr>\n",
       "    <tr>\n",
       "      <th>4</th>\n",
       "      <td>Q2_6</td>\n",
       "      <td>0.091948</td>\n",
       "    </tr>\n",
       "    <tr>\n",
       "      <th>5</th>\n",
       "      <td>Q5_1</td>\n",
       "      <td>0.092371</td>\n",
       "    </tr>\n",
       "    <tr>\n",
       "      <th>6</th>\n",
       "      <td>Q5_14</td>\n",
       "      <td>0.092550</td>\n",
       "    </tr>\n",
       "    <tr>\n",
       "      <th>7</th>\n",
       "      <td>Q2_16</td>\n",
       "      <td>0.093951</td>\n",
       "    </tr>\n",
       "    <tr>\n",
       "      <th>8</th>\n",
       "      <td>Q2_30</td>\n",
       "      <td>0.105658</td>\n",
       "    </tr>\n",
       "    <tr>\n",
       "      <th>9</th>\n",
       "      <td>Q5_39</td>\n",
       "      <td>0.110561</td>\n",
       "    </tr>\n",
       "    <tr>\n",
       "      <th>10</th>\n",
       "      <td>Q5_50</td>\n",
       "      <td>0.110896</td>\n",
       "    </tr>\n",
       "  </tbody>\n",
       "</table>\n",
       "</div>"
      ],
      "text/plain": [
       "      Var     Score\n",
       "1   Q2_25  0.071044\n",
       "2   Q5_58  0.071821\n",
       "3   Q5_22  0.089347\n",
       "4    Q2_6  0.091948\n",
       "5    Q5_1  0.092371\n",
       "6   Q5_14  0.092550\n",
       "7   Q2_16  0.093951\n",
       "8   Q2_30  0.105658\n",
       "9   Q5_39  0.110561\n",
       "10  Q5_50  0.110896"
      ]
     },
     "execution_count": 100,
     "metadata": {},
     "output_type": "execute_result"
    }
   ],
   "source": [
    "Selected_Q[10]"
   ]
  },
  {
   "cell_type": "code",
   "execution_count": 48,
   "metadata": {},
   "outputs": [],
   "source": [
    "def BalancedBagging_Valudation(X_train, y_train, n_splits):\n",
    "    \n",
    "    matrix = []\n",
    "    PRE = []\n",
    "    REC = []\n",
    "    F1 = []\n",
    "    ROC_AUC = []\n",
    "    k = 1\n",
    "    \n",
    "    flod = KFold(n_splits=n_splits, random_state=71)\n",
    "    \n",
    "    for train_index, test_index in flod.split(X_train, y_train):\n",
    "        x_ta = X_train.values[train_index]\n",
    "        x_te = X_train.values[test_index]\n",
    "        y_ta = y_train.values[train_index]\n",
    "        y_te = y_train.values[test_index]\n",
    "        \n",
    "        negative_count = len(y_ta) - y_ta.sum()\n",
    "        positive_count = y_ta.sum()\n",
    "\n",
    "        sts = StandardScaler()\n",
    "        clf = xgb.XGBClassifier(n_jobs=-1)\n",
    "        usbc = BalancedBaggingClassifier(base_estimator=clf, n_jobs=-1, n_estimators=10, ratio='not minority')\n",
    "        pipe = make_pipeline(sts, usbc)\n",
    "\n",
    "        pipe.fit(x_ta, y_ta)\n",
    "        y_pred = pipe.predict(x_te)\n",
    "\n",
    "        matrix.append(confusion_matrix(y_te, y_pred))\n",
    "        PRE.append(precision_score(y_te, y_pred))\n",
    "        REC.append(recall_score(y_te, y_pred))\n",
    "        F1.append(f1_score(y_te, y_pred))\n",
    "        ROC_AUC.append(roc_auc_score(y_te, y_pred))\n",
    "        \n",
    "        print (\"Done: %d, Totaling: %d\" % (k, n_splits))\n",
    "        k += 1\n",
    "        \n",
    "    return matrix, np.array(PRE), np.array(REC), np.array(F1), np.array(ROC_AUC)"
   ]
  },
  {
   "cell_type": "code",
   "execution_count": 49,
   "metadata": {},
   "outputs": [
    {
     "name": "stdout",
     "output_type": "stream",
     "text": [
      "Done: 1, Totaling: 10\n",
      "Done: 2, Totaling: 10\n",
      "Done: 3, Totaling: 10\n",
      "Done: 4, Totaling: 10\n",
      "Done: 5, Totaling: 10\n",
      "Done: 6, Totaling: 10\n",
      "Done: 7, Totaling: 10\n",
      "Done: 8, Totaling: 10\n",
      "Done: 9, Totaling: 10\n",
      "Done: 10, Totaling: 10\n"
     ]
    }
   ],
   "source": [
    "Matrix, PRE, REC, F1, ROC_AUC = BalancedBagging_Valudation(X_train, y_train, 10)"
   ]
  },
  {
   "cell_type": "code",
   "execution_count": 50,
   "metadata": {},
   "outputs": [
    {
     "data": {
      "text/plain": [
       "(0.353, 0.873, 0.855, 0.503)"
      ]
     },
     "execution_count": 50,
     "metadata": {},
     "output_type": "execute_result"
    }
   ],
   "source": [
    "PRE.mean(), REC.mean(), ROC_AUC.mean(), F1.mean()"
   ]
  },
  {
   "cell_type": "code",
   "execution_count": 52,
   "metadata": {},
   "outputs": [
    {
     "data": {
      "text/plain": [
       "array([[1061,  208],\n",
       "       [  18,  119]], dtype=int64)"
      ]
     },
     "execution_count": 52,
     "metadata": {},
     "output_type": "execute_result"
    }
   ],
   "source": [
    "Matrix[9]"
   ]
  },
  {
   "cell_type": "code",
   "execution_count": 89,
   "metadata": {},
   "outputs": [],
   "source": [
    "\"\"\"すべてのNGに対してRFECV法を利用し、設問数と予測精度の関係を見る\"\"\"\n",
    "def RFECV_for_NG(X_train, y_train, step):\n",
    "    \"\"\"アルゴリズムの初期化とデータの標準化\"\"\"\n",
    "    clf_xgb = make_pipeline(StandardScaler(), xgb.XGBClassifier(random_state=0))\n",
    "    \n",
    "    \"\"\"層化k分割交差検証を呼び出し\"\"\"\n",
    "    kflod = StratifiedKFold(n_splits=5, random_state=1).split(X_train, y_train)\n",
    "    \n",
    "    \"\"\"説明力が小さい設問から5問ずつ落としていき、精度を見る\"\"\"\n",
    "    selector_cv = RFECV(clf_xgb, step=step, cv=kflod, scoring='f1', n_jobs=-1)\n",
    "    start = time()\n",
    "    selector_cv.fit(X_train, y_train)\n",
    "    print(\"Time: {} s\".format(time() - start))\n",
    "    \n",
    "    grid_score = selector_cv.grid_scores_\n",
    "        \n",
    "    return grid_score"
   ]
  },
  {
   "cell_type": "code",
   "execution_count": 90,
   "metadata": {},
   "outputs": [
    {
     "name": "stdout",
     "output_type": "stream",
     "text": [
      "precision : 0.974\n",
      "recall : 0.903\n",
      "f1 score; 0.924\n"
     ]
    },
    {
     "name": "stderr",
     "output_type": "stream",
     "text": [
      "[Parallel(n_jobs=-1)]: Done   5 out of   5 | elapsed:   34.9s finished\n"
     ]
    }
   ],
   "source": [
    "X_train_resampled, y_train_resampled = Resample_train(X_train, y_train)"
   ]
  },
  {
   "cell_type": "code",
   "execution_count": 45,
   "metadata": {},
   "outputs": [
    {
     "name": "stdout",
     "output_type": "stream",
     "text": [
      "Time: 564.9348170757294 s\n"
     ]
    }
   ],
   "source": [
    "grid_score = RFECV_for_NG(X_train_resampled, y_train_resampled, step=5)"
   ]
  },
  {
   "cell_type": "code",
   "execution_count": 50,
   "metadata": {},
   "outputs": [
    {
     "data": {
      "text/plain": [
       "21"
      ]
     },
     "execution_count": 50,
     "metadata": {},
     "output_type": "execute_result"
    }
   ],
   "source": [
    "grid_score."
   ]
  },
  {
   "cell_type": "code",
   "execution_count": 51,
   "metadata": {},
   "outputs": [
    {
     "data": {
      "text/plain": [
       "<matplotlib.figure.Figure at 0x12ede978>"
      ]
     },
     "metadata": {},
     "output_type": "display_data"
    },
    {
     "data": {
      "image/png": "[encoded data removed]",
      "text/plain": [
       "<matplotlib.figure.Figure at 0x12ede860>"
      ]
     },
     "metadata": {},
     "output_type": "display_data"
    }
   ],
   "source": [
    "\"\"\"設問数と精度の関係を描画\"\"\"\n",
    "plt.clf()\n",
    "fig = plt.figure(figsize=(8,5), facecolor='w')\n",
    "plt.plot(np.arange(5, 110, 5), grid_score, 'o-')\n",
    "plt.xlabel('No. of Questions (Global Common Atrribute) Selected', fontsize = 8)\n",
    "plt.ylabel('f1 score', fontsize = 8)\n",
    "plt.ylim(0.5, 1.0)\n",
    "plt.show()"
   ]
  },
  {
   "cell_type": "code",
   "execution_count": 43,
   "metadata": {},
   "outputs": [],
   "source": [
    "def RFE_for_NG(X_train, Y_train):\n",
    "    \n",
    "    \"\"\"データの標準化\"\"\"\n",
    "    scaler = StandardScaler()\n",
    "    scaler.fit(X_train)\n",
    "    x_train = scaler.transform(X_train)\n",
    "    \n",
    "    \"\"\"説明力が小さい設問から5問ずつ落としていき、精度を見る\"\"\"\n",
    "    selector = RFE(xgb.XGBClassifier(), n_features_to_select =10, step=5, verbose=1)\n",
    "    start = time()\n",
    "    selector.fit(x_train, Y_train)\n",
    "    print(\"Time: {} s\".format(time() - start))\n",
    "    \n",
    "    x_selected = selector.transform(x_train)\n",
    "    support = selector.get_support()\n",
    "        \n",
    "    return x_selected, support"
   ]
  },
  {
   "cell_type": "code",
   "execution_count": 44,
   "metadata": {},
   "outputs": [
    {
     "name": "stdout",
     "output_type": "stream",
     "text": [
      "Fitting estimator with 100 features.\n",
      "Fitting estimator with 95 features.\n",
      "Fitting estimator with 90 features.\n",
      "Fitting estimator with 85 features.\n",
      "Fitting estimator with 80 features.\n",
      "Fitting estimator with 75 features.\n",
      "Fitting estimator with 70 features.\n",
      "Fitting estimator with 65 features.\n",
      "Fitting estimator with 60 features.\n",
      "Fitting estimator with 55 features.\n",
      "Fitting estimator with 50 features.\n",
      "Fitting estimator with 45 features.\n",
      "Fitting estimator with 40 features.\n",
      "Fitting estimator with 35 features.\n",
      "Fitting estimator with 30 features.\n",
      "Fitting estimator with 25 features.\n",
      "Fitting estimator with 20 features.\n",
      "Fitting estimator with 15 features.\n",
      "Time: 249.13481450080872 s\n"
     ]
    }
   ],
   "source": [
    "x_selected, support = RFE_for_NG(X_train_resampled, Y_train_resampled)"
   ]
  },
  {
   "cell_type": "code",
   "execution_count": 45,
   "metadata": {},
   "outputs": [
    {
     "name": "stdout",
     "output_type": "stream",
     "text": [
      "precision : 0.960\n",
      "recall : 0.935\n",
      "f1 score; 0.948\n"
     ]
    }
   ],
   "source": [
    "x1_selected, x2_selected, y1_selected, y2_selected = train_test_split(x_selected, Y_train_resampled, test_size = 0.3)\n",
    "clf_xgb = xgb.XGBClassifier()\n",
    "clf_xgb.fit(x1_selected, y1_selected)\n",
    "tn, fp, fn, tp = confusion_matrix(y2_selected, clf_xgb.predict(x2_selected)).ravel()\n",
    "\n",
    "PRE = tp / (tp + fp)\n",
    "REC = tp / (tp + fn)\n",
    "f1 = 2 * PRE *REC / (PRE + REC)\n",
    "\n",
    "print('precision : %.3f'% PRE)\n",
    "print('recall : %.3f'% REC)\n",
    "print('f1 score; %.3f' % f1)"
   ]
  },
  {
   "cell_type": "code",
   "execution_count": 46,
   "metadata": {},
   "outputs": [],
   "source": [
    "selected_q = pd.concat([pd.Series(X_train.columns), pd.Series(support)], axis=1)\n",
    "selected_q.columns = ['Question', 'Selected or Not']\n",
    "selected_q.to_csv('Selected_Q_TF_NG1.csv')"
   ]
  },
  {
   "cell_type": "code",
   "execution_count": 47,
   "metadata": {},
   "outputs": [
    {
     "data": {
      "text/html": [
       "<div>\n",
       "<style scoped>\n",
       "    .dataframe tbody tr th:only-of-type {\n",
       "        vertical-align: middle;\n",
       "    }\n",
       "\n",
       "    .dataframe tbody tr th {\n",
       "        vertical-align: top;\n",
       "    }\n",
       "\n",
       "    .dataframe thead th {\n",
       "        text-align: right;\n",
       "    }\n",
       "</style>\n",
       "<table border=\"1\" class=\"dataframe\">\n",
       "  <thead>\n",
       "    <tr style=\"text-align: right;\">\n",
       "      <th></th>\n",
       "      <th>Question</th>\n",
       "      <th>Selected or Not</th>\n",
       "    </tr>\n",
       "  </thead>\n",
       "  <tbody>\n",
       "    <tr>\n",
       "      <th>38</th>\n",
       "      <td>Q2_6</td>\n",
       "      <td>True</td>\n",
       "    </tr>\n",
       "    <tr>\n",
       "      <th>41</th>\n",
       "      <td>Q2_9</td>\n",
       "      <td>True</td>\n",
       "    </tr>\n",
       "    <tr>\n",
       "      <th>46</th>\n",
       "      <td>Q2_16</td>\n",
       "      <td>True</td>\n",
       "    </tr>\n",
       "    <tr>\n",
       "      <th>55</th>\n",
       "      <td>Q2_30</td>\n",
       "      <td>True</td>\n",
       "    </tr>\n",
       "    <tr>\n",
       "      <th>56</th>\n",
       "      <td>Q5_1</td>\n",
       "      <td>True</td>\n",
       "    </tr>\n",
       "    <tr>\n",
       "      <th>59</th>\n",
       "      <td>Q5_6</td>\n",
       "      <td>True</td>\n",
       "    </tr>\n",
       "    <tr>\n",
       "      <th>70</th>\n",
       "      <td>Q5_24</td>\n",
       "      <td>True</td>\n",
       "    </tr>\n",
       "    <tr>\n",
       "      <th>81</th>\n",
       "      <td>Q5_39</td>\n",
       "      <td>True</td>\n",
       "    </tr>\n",
       "    <tr>\n",
       "      <th>88</th>\n",
       "      <td>Q5_50</td>\n",
       "      <td>True</td>\n",
       "    </tr>\n",
       "    <tr>\n",
       "      <th>91</th>\n",
       "      <td>Q5_53</td>\n",
       "      <td>True</td>\n",
       "    </tr>\n",
       "  </tbody>\n",
       "</table>\n",
       "</div>"
      ],
      "text/plain": [
       "   Question  Selected or Not\n",
       "38     Q2_6             True\n",
       "41     Q2_9             True\n",
       "46    Q2_16             True\n",
       "55    Q2_30             True\n",
       "56     Q5_1             True\n",
       "59     Q5_6             True\n",
       "70    Q5_24             True\n",
       "81    Q5_39             True\n",
       "88    Q5_50             True\n",
       "91    Q5_53             True"
      ]
     },
     "execution_count": 47,
     "metadata": {},
     "output_type": "execute_result"
    }
   ],
   "source": [
    "selected_q[selected_q['Selected or Not'] == True]"
   ]
  },
  {
   "cell_type": "code",
   "execution_count": 42,
   "metadata": {},
   "outputs": [],
   "source": [
    "Questions = pd.DataFrame(NG[1].columns)\n",
    "importance = pd.DataFrame(clf_xgb.feature_importances_)\n",
    "Importance_score = pd.concat([Questions, importance], axis=1)\n",
    "Importance_score.columns = ['Variables', 'Score']"
   ]
  },
  {
   "cell_type": "code",
   "execution_count": 43,
   "metadata": {},
   "outputs": [
    {
     "name": "stderr",
     "output_type": "stream",
     "text": [
      "No handles with labels found to put in legend.\n"
     ]
    },
    {
     "data": {
      "text/plain": [
       "<matplotlib.figure.Figure at 0x14714588>"
      ]
     },
     "metadata": {},
     "output_type": "display_data"
    },
    {
     "data": {
      "image/png": "[encoded data removed]",
      "text/plain": [
       "<matplotlib.figure.Figure at 0x14714278>"
      ]
     },
     "metadata": {},
     "output_type": "display_data"
    }
   ],
   "source": [
    "plt.clf()\n",
    "fig = plt.figure(figsize=(10,6), facecolor='w')\n",
    "plt.barh(Importance_score.Variables, Importance_score.Score, color = 'red')\n",
    "\n",
    "plt.xlabel('Importance', fontsize = 12)\n",
    "plt.ylabel('Variables', fontsize = 12)\n",
    "plt.legend(loc='best', fontsize = 12)\n",
    "plt.tick_params(labelsize=6)\n",
    "plt.show()"
   ]
  },
  {
   "cell_type": "code",
   "execution_count": null,
   "metadata": {},
   "outputs": [],
   "source": []
  }
 ],
 "metadata": {
  "kernelspec": {
   "display_name": "Python 3",
   "language": "python",
   "name": "python3"
  },
  "language_info": {
   "codemirror_mode": {
    "name": "ipython",
    "version": 3
   },
   "file_extension": ".py",
   "mimetype": "text/x-python",
   "name": "python",
   "nbconvert_exporter": "python",
   "pygments_lexer": "ipython3",
   "version": "3.6.4"
  }
 },
 "nbformat": 4,
 "nbformat_minor": 2
}
